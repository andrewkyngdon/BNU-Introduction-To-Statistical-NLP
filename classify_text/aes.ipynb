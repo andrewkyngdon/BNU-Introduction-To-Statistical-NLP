{
 "cells": [
  {
   "cell_type": "markdown",
   "metadata": {},
   "source": [
    "# A simple language model to classify Kaggle essays according to grade."
   ]
  },
  {
   "cell_type": "code",
   "execution_count": 1,
   "metadata": {
    "collapsed": true
   },
   "outputs": [],
   "source": [
    "import caffe\n",
    "import numpy as np\n",
    "import matplotlib.pyplot as plt\n",
    "from sklearn.metrics import cohen_kappa_score as CKS\n",
    "from sklearn.metrics import confusion_matrix\n",
    "from scipy.stats.stats import pearsonr\n",
    "from sklearn.manifold import TSNE\n",
    "%matplotlib inline\n",
    "plt.rcParams['figure.figsize'] = (14,8)"
   ]
  },
  {
   "cell_type": "code",
   "execution_count": 2,
   "metadata": {
    "collapsed": true
   },
   "outputs": [],
   "source": [
    "caffe.set_mode_cpu()\n",
    "\n",
    "# The weights are from a model trained using a word embedding pre-trained using CBoW.\n",
    "# Use aes_skpgrm.caffemodel for weights from a model learned using a skip-gram pre-trained word embedding.\n",
    "# Use aes_skpgrm_neg.caffemodel for weights from a model learned using a skip-gram with negative sampling pre-trained word embedding.\n",
    "\n",
    "model_def = 'aes_deploy.prototxt'\n",
    "model_weights = 'aes_cbow.caffemodel' \n",
    "net = caffe.Net(model_def,  model_weights,  caffe.TEST)"
   ]
  },
  {
   "cell_type": "code",
   "execution_count": 3,
   "metadata": {},
   "outputs": [
    {
     "name": "stdout",
     "output_type": "stream",
     "text": [
      "data\t(100, 161)\n",
      "label\t(100,)\n",
      "wrd2vec\t(100, 161, 100)\n",
      "FC1\t(100, 200)\n",
      "pred\t(100, 5)\n",
      "probs\t(100, 5)\n"
     ]
    }
   ],
   "source": [
    "for layer_name, blob in net.blobs.items():\n",
    "    print (layer_name + '\\t' + str(blob.data.shape))"
   ]
  },
  {
   "cell_type": "code",
   "execution_count": 4,
   "metadata": {},
   "outputs": [
    {
     "name": "stdout",
     "output_type": "stream",
     "text": [
      "wrd2vec\t(701, 100)(100,)\n",
      "FC1\t(200, 16100)(200,)\n",
      "pred\t(5, 200)(5,)\n"
     ]
    }
   ],
   "source": [
    "for layer_name, param in net.params.items():\n",
    "    print (layer_name + '\\t' + str(param[0].data.shape) + str(param[1].data.shape))"
   ]
  },
  {
   "cell_type": "code",
   "execution_count": 5,
   "metadata": {
    "collapsed": true
   },
   "outputs": [],
   "source": [
    "iters = 3\n",
    "pred = []\n",
    "labs = []\n",
    "acts = []\n",
    "for i in range(iters):\n",
    "    net.forward()\n",
    "    for n in range(100):\n",
    "        pr = np.argmax(net.blobs['probs'].data[n])\n",
    "        lb = net.blobs['label'].data[n]\n",
    "        act = list(net.blobs['FC1'].data[n])\n",
    "        pred.append(pr)\n",
    "        labs.append(lb)\n",
    "        acts.append(act)\n",
    "FC1_activations = np.asarray(acts)"
   ]
  },
  {
   "cell_type": "code",
   "execution_count": 6,
   "metadata": {},
   "outputs": [
    {
     "name": "stdout",
     "output_type": "stream",
     "text": [
      "Quadratic Weighted Kappa: 0.657\n"
     ]
    }
   ],
   "source": [
    "# Quadratic Weighted Kappa is the statistic used to evaluate essay scoring models. This is because human examiners -\n",
    "# very often differ slightly in the marks they award. Unlike raw accuracy, which weights all errors with zero, Kappa -\n",
    "# weights small grade discrepancies but gives very little weight to large errors.\n",
    "\n",
    "print(\"Quadratic Weighted Kappa:\",np.round(CKS(pred,labs,weights='quadratic'),3))"
   ]
  },
  {
   "cell_type": "code",
   "execution_count": 7,
   "metadata": {},
   "outputs": [
    {
     "name": "stdout",
     "output_type": "stream",
     "text": [
      "Pearson product-moment correlation: 0.68\n"
     ]
    }
   ],
   "source": [
    "print(\"Pearson product-moment correlation:\",np.round(pearsonr(pred,labs)[0],3))"
   ]
  },
  {
   "cell_type": "code",
   "execution_count": 8,
   "metadata": {},
   "outputs": [
    {
     "name": "stdout",
     "output_type": "stream",
     "text": [
      "Exact Agreement (Accuracy): 0.567\n"
     ]
    }
   ],
   "source": [
    "# Accuracy is often called \"exact agreement\" in the education literature.\n",
    "acc = []\n",
    "for i in range(len(labs)):\n",
    "    ac = int(pred[i] == labs[i])\n",
    "    acc.append(ac)\n",
    "print(\"Exact Agreement (Accuracy):\",np.round(np.sum(acc)/len(acc),3))"
   ]
  },
  {
   "cell_type": "markdown",
   "metadata": {},
   "source": [
    "### Visualising hidden layer activations with t-SNE"
   ]
  },
  {
   "cell_type": "code",
   "execution_count": 9,
   "metadata": {
    "collapsed": true
   },
   "outputs": [],
   "source": [
    "# t-SNE produces a 2D reduction of the original 200D hidden layer space\n",
    "tsne = TSNE(n_components=2, random_state=0, n_iter=10000, perplexity=5, learning_rate = 50)\n",
    "T = tsne.fit_transform(FC1_activations)"
   ]
  },
  {
   "cell_type": "code",
   "execution_count": 10,
   "metadata": {},
   "outputs": [
    {
     "data": {
      "image/png": "[encoded data removed]",
      "text/plain": [
       "<Figure size 1008x576 with 1 Axes>"
      ]
     },
     "metadata": {},
     "output_type": "display_data"
    }
   ],
   "source": [
    "lab_nm = np.asarray(sorted(set(labs)), dtype=np.int32)\n",
    "lbs = np.asarray(labs)\n",
    "lab_ids = range(len(lab_nm))\n",
    "colors = 'r', 'b', 'y', 'c','m'\n",
    "for i, c, label in zip(lab_ids, colors, lab_nm):\n",
    "    plt.scatter(T[lbs == i, 0],T[lbs == i, 1],c=c,label=label)\n",
    "plt.legend()\n",
    "plt.show()"
   ]
  },
  {
   "cell_type": "markdown",
   "metadata": {},
   "source": [
    "The model clustered most of the zero graded passages separately from the majority of other documents. Considerable overlap can be seen between passages with adjacent grades, especially for passages with the top grade of four, almost all of which cluster with documents awarded a grade of three."
   ]
  },
  {
   "cell_type": "code",
   "execution_count": 11,
   "metadata": {},
   "outputs": [
    {
     "data": {
      "text/plain": [
       "array([[ 2,  6,  3,  3,  0],\n",
       "       [ 0,  8,  6,  3,  0],\n",
       "       [ 0,  7, 39, 36,  3],\n",
       "       [ 0,  0, 11, 88, 18],\n",
       "       [ 0,  0,  0, 34, 33]], dtype=int64)"
      ]
     },
     "execution_count": 11,
     "metadata": {},
     "output_type": "execute_result"
    }
   ],
   "source": [
    "confusion_matrix(labs,pred)"
   ]
  },
  {
   "cell_type": "markdown",
   "metadata": {},
   "source": [
    "The confusion matrix is consistent with the 2D t-SNE visualisation. Most classification errors were of a score adjacent to the correct label. This is why the Quadratic Weighted Kappa statistic is relatively high - most of the misclassifcation errors lie next to the diagonal.\n",
    "A more powerful model, a different approach to text pre-processing or more data could be used to improve this result."
   ]
  },
  {
   "cell_type": "code",
   "execution_count": null,
   "metadata": {
    "collapsed": true
   },
   "outputs": [],
   "source": []
  }
 ],
 "metadata": {
  "anaconda-cloud": {},
  "kernelspec": {
   "display_name": "Python [conda root]",
   "language": "python",
   "name": "conda-root-py"
  },
  "language_info": {
   "codemirror_mode": {
    "name": "ipython",
    "version": 3
   },
   "file_extension": ".py",
   "mimetype": "text/x-python",
   "name": "python",
   "nbconvert_exporter": "python",
   "pygments_lexer": "ipython3",
   "version": "3.5.3"
  }
 },
 "nbformat": 4,
 "nbformat_minor": 2
}
